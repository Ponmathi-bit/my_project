{
  "nbformat": 4,
  "nbformat_minor": 0,
  "metadata": {
    "colab": {
      "provenance": [],
      "authorship_tag": "ABX9TyPFIePo52+gJQAqtqjgzF/l",
      "include_colab_link": true
    },
    "kernelspec": {
      "name": "python3",
      "display_name": "Python 3"
    },
    "language_info": {
      "name": "python"
    }
  },
  "cells": [
    {
      "cell_type": "markdown",
      "metadata": {
        "id": "view-in-github",
        "colab_type": "text"
      },
      "source": [
        "<a href=\"https://colab.research.google.com/github/Ponmathi-bit/my_project/blob/main/numpySelfLearn.ipynb\" target=\"_parent\"><img src=\"https://colab.research.google.com/assets/colab-badge.svg\" alt=\"Open In Colab\"/></a>"
      ]
    },
    {
      "cell_type": "code",
      "execution_count": 1,
      "metadata": {
        "id": "CJT2AkPyqSni"
      },
      "outputs": [],
      "source": [
        "import numpy as np"
      ]
    },
    {
      "cell_type": "code",
      "source": [
        "#Creating arrays\n",
        "a = np.array([1, 2, 3, 4])\n",
        "b = np.array([[1, 2], [3, 4]])\n",
        "c = np.array([[1, 2, 3], [4, 5, 6], [7, 8, 9]])\n",
        "zeros = np.zeros((2, 3))\n",
        "ones = np.ones((3, 3))\n",
        "range_array = np.arange(0, 10, 2)\n",
        "random_array = np.random.rand(3, 3)"
      ],
      "metadata": {
        "id": "tdsg-ChQqeqK"
      },
      "execution_count": 4,
      "outputs": []
    },
    {
      "cell_type": "code",
      "source": [
        "print(a)\n",
        "print(b)\n",
        "print(c)\n",
        "print(zeros)\n",
        "print(ones)\n",
        "print(range_array)\n",
        "print(random_array)"
      ],
      "metadata": {
        "colab": {
          "base_uri": "https://localhost:8080/"
        },
        "id": "6MP16jtLrbSz",
        "outputId": "7e276b3e-0618-4d79-d93b-c221fe6699f8"
      },
      "execution_count": 5,
      "outputs": [
        {
          "output_type": "stream",
          "name": "stdout",
          "text": [
            "[1 2 3 4]\n",
            "[[1 2]\n",
            " [3 4]]\n",
            "[[1 2 3]\n",
            " [4 5 6]\n",
            " [7 8 9]]\n",
            "[[0. 0. 0.]\n",
            " [0. 0. 0.]]\n",
            "[[1. 1. 1.]\n",
            " [1. 1. 1.]\n",
            " [1. 1. 1.]]\n",
            "[0 2 4 6 8]\n",
            "[[0.40478249 0.4899652  0.34132972]\n",
            " [0.26300624 0.69301411 0.2717416 ]\n",
            " [0.11244326 0.12614874 0.40008939]]\n"
          ]
        }
      ]
    },
    {
      "cell_type": "code",
      "source": [
        "#Array Indexing and Slicing\n",
        "print(a[0])\n",
        "print(b[1,1])\n",
        "slice_a = a[1:3]\n",
        "slice_b = b[:,1]\n",
        "print(slice_a)\n",
        "print(slice_b)"
      ],
      "metadata": {
        "colab": {
          "base_uri": "https://localhost:8080/"
        },
        "id": "xWawz60hruEh",
        "outputId": "eae7c5f5-c87d-477d-abee-554da902556c"
      },
      "execution_count": 8,
      "outputs": [
        {
          "output_type": "stream",
          "name": "stdout",
          "text": [
            "1\n",
            "4\n",
            "[2 3]\n",
            "[2 4]\n"
          ]
        }
      ]
    },
    {
      "cell_type": "code",
      "source": [
        "#Element-wise Operator\n",
        "x = np.array([1,2,3])\n",
        "y = np.array([4,5,6])\n",
        "\n",
        "z = x + y\n",
        "print(z)\n",
        "\n",
        "z = x*y\n",
        "print(z)\n",
        "\n",
        "z = x + 10\n",
        "print(z)"
      ],
      "metadata": {
        "colab": {
          "base_uri": "https://localhost:8080/"
        },
        "id": "s6KZqVrLsX6Q",
        "outputId": "499a1094-37a1-4c53-906c-e63f1a5f91ed"
      },
      "execution_count": 9,
      "outputs": [
        {
          "output_type": "stream",
          "name": "stdout",
          "text": [
            "[5 7 9]\n",
            "[ 4 10 18]\n",
            "[11 12 13]\n"
          ]
        }
      ]
    },
    {
      "cell_type": "code",
      "source": [
        "#Linear Algebra\n",
        "\n",
        "# 2x + y = 1\n",
        "# x - y = -1\n",
        "\n",
        "p = np.array([[2,1],[1,-1]])\n",
        "v = np.array([1,-1])\n",
        "\n",
        "m = np.linalg.solve(p,v)\n",
        "print(m)\n",
        "\n",
        "n = np.dot(p, v)\n",
        "print(n)\n"
      ],
      "metadata": {
        "colab": {
          "base_uri": "https://localhost:8080/"
        },
        "id": "IO4mSWOnsvEz",
        "outputId": "b5df429f-1ed5-4108-a263-654895da84cd"
      },
      "execution_count": 12,
      "outputs": [
        {
          "output_type": "stream",
          "name": "stdout",
          "text": [
            "[0. 1.]\n",
            "[1 2]\n"
          ]
        }
      ]
    },
    {
      "cell_type": "code",
      "source": [
        "print(a.T)\n",
        "print(np.linalg.inv(b))"
      ],
      "metadata": {
        "colab": {
          "base_uri": "https://localhost:8080/"
        },
        "id": "Jea3J0Iht44O",
        "outputId": "d27d044c-bc77-4b31-84f7-9b1af31e279c"
      },
      "execution_count": 15,
      "outputs": [
        {
          "output_type": "stream",
          "name": "stdout",
          "text": [
            "[1 2 3 4]\n",
            "[[-2.   1. ]\n",
            " [ 1.5 -0.5]]\n"
          ]
        }
      ]
    },
    {
      "cell_type": "code",
      "source": [
        "#Aggregations and Statistical Operations\n",
        "print(np.sum(b))\n",
        "print(np.mean(b))\n",
        "print(np.std(b))\n",
        "print(np.min(b))\n",
        "print(np.max(b))\n"
      ],
      "metadata": {
        "colab": {
          "base_uri": "https://localhost:8080/"
        },
        "id": "edmkoL1cucS0",
        "outputId": "803136fc-7635-40b7-c180-c221dc6deaa7"
      },
      "execution_count": 17,
      "outputs": [
        {
          "output_type": "stream",
          "name": "stdout",
          "text": [
            "10\n",
            "2.5\n",
            "1.118033988749895\n",
            "1\n",
            "4\n"
          ]
        }
      ]
    },
    {
      "cell_type": "code",
      "source": [
        "#Random numbers\n",
        "print(np.random.rand())\n",
        "print(np.random.randint(0,100))\n",
        "print(np.random.randn(5))\n",
        "print(np.random.seed)"
      ],
      "metadata": {
        "colab": {
          "base_uri": "https://localhost:8080/"
        },
        "id": "gEPZHSn-uzBm",
        "outputId": "f9dd201d-01b4-4649-882f-a718d2f12616"
      },
      "execution_count": 18,
      "outputs": [
        {
          "output_type": "stream",
          "name": "stdout",
          "text": [
            "0.24179320884314992\n",
            "82\n",
            "[ 0.60764478  2.07169372 -1.14170129 -0.31839323 -0.59227585]\n",
            "<built-in function seed>\n"
          ]
        }
      ]
    }
  ]
}